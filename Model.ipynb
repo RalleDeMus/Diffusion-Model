{
 "cells": [
  {
   "cell_type": "markdown",
   "metadata": {},
   "source": [
    "## Imports"
   ]
  },
  {
   "cell_type": "code",
   "execution_count": null,
   "metadata": {},
   "outputs": [],
   "source": [
    "import torch\n",
    "import torchvision\n"
   ]
  },
  {
   "cell_type": "markdown",
   "metadata": {},
   "source": [
    "## Download MNIST"
   ]
  },
  {
   "cell_type": "code",
   "execution_count": 3,
   "metadata": {},
   "outputs": [
    {
     "name": "stdout",
     "output_type": "stream",
     "text": [
      "Downloading http://yann.lecun.com/exdb/mnist/train-images-idx3-ubyte.gz\n",
      "Failed to download (trying next):\n",
      "<urlopen error [SSL: CERTIFICATE_VERIFY_FAILED] certificate verify failed: certificate has expired (_ssl.c:1000)>\n",
      "\n",
      "Downloading https://ossci-datasets.s3.amazonaws.com/mnist/train-images-idx3-ubyte.gz\n",
      "Downloading https://ossci-datasets.s3.amazonaws.com/mnist/train-images-idx3-ubyte.gz to mnist\\MNIST\\raw\\train-images-idx3-ubyte.gz\n"
     ]
    },
    {
     "name": "stderr",
     "output_type": "stream",
     "text": [
      "100%|██████████| 9.91M/9.91M [00:18<00:00, 523kB/s]\n"
     ]
    },
    {
     "name": "stdout",
     "output_type": "stream",
     "text": [
      "Extracting mnist\\MNIST\\raw\\train-images-idx3-ubyte.gz to mnist\\MNIST\\raw\n",
      "\n",
      "Downloading http://yann.lecun.com/exdb/mnist/train-labels-idx1-ubyte.gz\n",
      "Failed to download (trying next):\n",
      "<urlopen error [SSL: CERTIFICATE_VERIFY_FAILED] certificate verify failed: certificate has expired (_ssl.c:1000)>\n",
      "\n",
      "Downloading https://ossci-datasets.s3.amazonaws.com/mnist/train-labels-idx1-ubyte.gz\n",
      "Downloading https://ossci-datasets.s3.amazonaws.com/mnist/train-labels-idx1-ubyte.gz to mnist\\MNIST\\raw\\train-labels-idx1-ubyte.gz\n"
     ]
    },
    {
     "name": "stderr",
     "output_type": "stream",
     "text": [
      "100%|██████████| 28.9k/28.9k [00:00<00:00, 228kB/s]\n"
     ]
    },
    {
     "name": "stdout",
     "output_type": "stream",
     "text": [
      "Extracting mnist\\MNIST\\raw\\train-labels-idx1-ubyte.gz to mnist\\MNIST\\raw\n",
      "\n",
      "Downloading http://yann.lecun.com/exdb/mnist/t10k-images-idx3-ubyte.gz\n",
      "Failed to download (trying next):\n",
      "<urlopen error [SSL: CERTIFICATE_VERIFY_FAILED] certificate verify failed: certificate has expired (_ssl.c:1000)>\n",
      "\n",
      "Downloading https://ossci-datasets.s3.amazonaws.com/mnist/t10k-images-idx3-ubyte.gz\n",
      "Downloading https://ossci-datasets.s3.amazonaws.com/mnist/t10k-images-idx3-ubyte.gz to mnist\\MNIST\\raw\\t10k-images-idx3-ubyte.gz\n"
     ]
    },
    {
     "name": "stderr",
     "output_type": "stream",
     "text": [
      "100%|██████████| 1.65M/1.65M [00:02<00:00, 575kB/s]\n"
     ]
    },
    {
     "name": "stdout",
     "output_type": "stream",
     "text": [
      "Extracting mnist\\MNIST\\raw\\t10k-images-idx3-ubyte.gz to mnist\\MNIST\\raw\n",
      "\n",
      "Downloading http://yann.lecun.com/exdb/mnist/t10k-labels-idx1-ubyte.gz\n",
      "Failed to download (trying next):\n",
      "<urlopen error [SSL: CERTIFICATE_VERIFY_FAILED] certificate verify failed: certificate has expired (_ssl.c:1000)>\n",
      "\n",
      "Downloading https://ossci-datasets.s3.amazonaws.com/mnist/t10k-labels-idx1-ubyte.gz\n",
      "Downloading https://ossci-datasets.s3.amazonaws.com/mnist/t10k-labels-idx1-ubyte.gz to mnist\\MNIST\\raw\\t10k-labels-idx1-ubyte.gz\n"
     ]
    },
    {
     "name": "stderr",
     "output_type": "stream",
     "text": [
      "100%|██████████| 4.54k/4.54k [00:00<?, ?B/s]\n"
     ]
    },
    {
     "name": "stdout",
     "output_type": "stream",
     "text": [
      "Extracting mnist\\MNIST\\raw\\t10k-labels-idx1-ubyte.gz to mnist\\MNIST\\raw\n",
      "\n",
      "torch.Size([1, 28, 28])\n"
     ]
    }
   ],
   "source": [
    "# generate the MNIST dataset\n",
    "transforms = torchvision.transforms.Compose([\n",
    "    torchvision.transforms.ToTensor(),\n",
    "])\n",
    "mnist_dset = torchvision.datasets.MNIST(\"mnist\", download=True, transform=transforms)\n",
    "print(mnist_dset[0][0].shape)"
   ]
  },
  {
   "cell_type": "markdown",
   "metadata": {},
   "source": [
    "## Sample from MNIST"
   ]
  },
  {
   "cell_type": "code",
   "execution_count": 21,
   "metadata": {},
   "outputs": [
    {
     "data": {
      "image/png": "[encoded data removed]",
      "text/plain": [
       "<Figure size 640x480 with 4 Axes>"
      ]
     },
     "metadata": {},
     "output_type": "display_data"
    }
   ],
   "source": [
    "# show a sample\n",
    "import matplotlib.pyplot as plt\n",
    "# the first index is for the dataset, the second is for the tuple, the third one is for channel\n",
    "\n",
    "\n",
    "f, axarr = plt.subplots(2,2)\n",
    "axarr[0,0].imshow(mnist_dset[0][0][0], cmap='gray')\n",
    "axarr[0,1].imshow(mnist_dset[1][0][0], cmap='gray')\n",
    "axarr[1,0].imshow(mnist_dset[20][0][0], cmap='gray')\n",
    "axarr[1,1].imshow(mnist_dset[23][0][0], cmap='gray')\n",
    "axarr[0,0].axis('off')\n",
    "axarr[0,1].axis('off')\n",
    "axarr[1,0].axis('off')\n",
    "axarr[1,1].axis('off')\n",
    "\n",
    "\n",
    "plt.show()"
   ]
  },
  {
   "cell_type": "markdown",
   "metadata": {},
   "source": [
    "## UNET "
   ]
  },
  {
   "cell_type": "code",
   "execution_count": null,
   "metadata": {},
   "outputs": [],
   "source": [
    "class ScoreNetwork0(torch.nn.Module):\n",
    "    # takes an input image and time, returns the score function\n",
    "    def __init__(self):\n",
    "        super().__init__()\n",
    "        nch = 2\n",
    "        chs = [32, 64, 128, 256, 256]\n",
    "        self._convs = torch.nn.ModuleList([\n",
    "            torch.nn.Sequential(\n",
    "                torch.nn.Conv2d(2, chs[0], kernel_size=3, padding=1),  # (batch, ch, 28, 28)\n",
    "                torch.nn.LogSigmoid(),  # (batch, 8, 28, 28)\n",
    "            ),\n",
    "            torch.nn.Sequential(\n",
    "                torch.nn.MaxPool2d(kernel_size=2, stride=2),  # (batch, ch, 14, 14)\n",
    "                torch.nn.Conv2d(chs[0], chs[1], kernel_size=3, padding=1),  # (batch, ch, 14, 14)\n",
    "                torch.nn.LogSigmoid(),  # (batch, 16, 14, 14)\n",
    "            ),\n",
    "            torch.nn.Sequential(\n",
    "                torch.nn.MaxPool2d(kernel_size=2, stride=2),  # (batch, ch, 7, 7)\n",
    "                torch.nn.Conv2d(chs[1], chs[2], kernel_size=3, padding=1),  # (batch, ch, 7, 7)\n",
    "                torch.nn.LogSigmoid(),  # (batch, 32, 7, 7)\n",
    "            ),\n",
    "            torch.nn.Sequential(\n",
    "                torch.nn.MaxPool2d(kernel_size=2, stride=2, padding=1),  # (batch, ch, 4, 4)\n",
    "                torch.nn.Conv2d(chs[2], chs[3], kernel_size=3, padding=1),  # (batch, ch, 4, 4)\n",
    "                torch.nn.LogSigmoid(),  # (batch, 64, 4, 4)\n",
    "            ),\n",
    "            torch.nn.Sequential(\n",
    "                torch.nn.MaxPool2d(kernel_size=2, stride=2),  # (batch, ch, 2, 2)\n",
    "                torch.nn.Conv2d(chs[3], chs[4], kernel_size=3, padding=1),  # (batch, ch, 2, 2)\n",
    "                torch.nn.LogSigmoid(),  # (batch, 64, 2, 2)\n",
    "            ),\n",
    "        ])\n",
    "        self._tconvs = torch.nn.ModuleList([\n",
    "            torch.nn.Sequential(\n",
    "                # input is the output of convs[4]\n",
    "                torch.nn.ConvTranspose2d(chs[4], chs[3], kernel_size=3, stride=2, padding=1, output_padding=1),  # (batch, 64, 4, 4)\n",
    "                torch.nn.LogSigmoid(),\n",
    "            ),\n",
    "            torch.nn.Sequential(\n",
    "                # input is the output from the above sequential concated with the output from convs[3]\n",
    "                torch.nn.ConvTranspose2d(chs[3] * 2, chs[2], kernel_size=3, stride=2, padding=1, output_padding=0),  # (batch, 32, 7, 7)\n",
    "                torch.nn.LogSigmoid(),\n",
    "            ),\n",
    "            torch.nn.Sequential(\n",
    "                # input is the output from the above sequential concated with the output from convs[2]\n",
    "                torch.nn.ConvTranspose2d(chs[2] * 2, chs[1], kernel_size=3, stride=2, padding=1, output_padding=1),  # (batch, chs[2], 14, 14)\n",
    "                torch.nn.LogSigmoid(),\n",
    "            ),\n",
    "            torch.nn.Sequential(\n",
    "                # input is the output from the above sequential concated with the output from convs[1]\n",
    "                torch.nn.ConvTranspose2d(chs[1] * 2, chs[0], kernel_size=3, stride=2, padding=1, output_padding=1),  # (batch, chs[1], 28, 28)\n",
    "                torch.nn.LogSigmoid(),\n",
    "            ),\n",
    "            torch.nn.Sequential(\n",
    "                # input is the output from the above sequential concated with the output from convs[0]\n",
    "                torch.nn.Conv2d(chs[0] * 2, chs[0], kernel_size=3, padding=1),  # (batch, chs[0], 28, 28)\n",
    "                torch.nn.LogSigmoid(),\n",
    "                torch.nn.Conv2d(chs[0], 1, kernel_size=3, padding=1),  # (batch, 1, 28, 28)\n",
    "            ),\n",
    "        ])\n",
    "\n",
    "    def forward(self, x: torch.Tensor, t: torch.Tensor) -> torch.Tensor:\n",
    "        # x: (..., ch0 * 28 * 28), t: (..., 1)\n",
    "        x2 = torch.reshape(x, (*x.shape[:-1], 1, 28, 28))  # (..., ch0, 28, 28)\n",
    "        tt = t[..., None, None].expand(*t.shape[:-1], 1, 28, 28)  # (..., 1, 28, 28)\n",
    "        x2t = torch.cat((x2, tt), dim=-3)\n",
    "        signal = x2t\n",
    "        signals = []\n",
    "        for i, conv in enumerate(self._convs):\n",
    "            signal = conv(signal)\n",
    "            if i < len(self._convs) - 1:\n",
    "                signals.append(signal)\n",
    "\n",
    "        for i, tconv in enumerate(self._tconvs):\n",
    "            if i == 0:\n",
    "                signal = tconv(signal)\n",
    "            else:\n",
    "                signal = torch.cat((signal, signals[-i]), dim=-3)\n",
    "                signal = tconv(signal)\n",
    "        signal = torch.reshape(signal, (*signal.shape[:-3], -1))  # (..., 1 * 28 * 28)\n",
    "        return signal\n",
    "\n",
    "score_network = ScoreNetwork0()"
   ]
  },
  {
   "cell_type": "markdown",
   "metadata": {},
   "source": [
    "## Loss scoring"
   ]
  },
  {
   "cell_type": "code",
   "execution_count": null,
   "metadata": {},
   "outputs": [],
   "source": [
    "def calc_loss(score_network: torch.nn.Module, x: torch.Tensor) -> torch.Tensor:\n",
    "    # x: (batch_size, nch) is the training data\n",
    "    \n",
    "    # sample the time\n",
    "    t = torch.rand((x.shape[0], 1), dtype=x.dtype, device=x.device) * (1 - 1e-4) + 1e-4\n",
    "\n",
    "    # calculate the terms for the posterior log distribution\n",
    "    int_beta = (0.1 + 0.5 * (20 - 0.1) * t) * t  # integral of beta\n",
    "    mu_t = x * torch.exp(-0.5 * int_beta)\n",
    "    var_t = -torch.expm1(-int_beta)\n",
    "    x_t = torch.randn_like(x) * var_t ** 0.5 + mu_t\n",
    "    grad_log_p = -(x_t - mu_t) / var_t  # (batch_size, nch)\n",
    "\n",
    "    # calculate the score function\n",
    "    score = score_network(x_t, t)  # score: (batch_size, nch)\n",
    "\n",
    "    # calculate the loss function\n",
    "    loss = (score - grad_log_p) ** 2\n",
    "    lmbda_t = var_t\n",
    "    weighted_loss = lmbda_t * loss\n",
    "    return torch.mean(weighted_loss)"
   ]
  },
  {
   "cell_type": "markdown",
   "metadata": {},
   "source": [
    "## Training loop"
   ]
  },
  {
   "cell_type": "code",
   "execution_count": null,
   "metadata": {},
   "outputs": [],
   "source": [
    "# start the training loop\n",
    "import time\n",
    "opt = torch.optim.Adam(score_network.parameters(), lr=3e-4)\n",
    "dloader = torch.utils.data.DataLoader(mnist_dset, batch_size=64, shuffle=True)\n",
    "device = torch.device('cuda:0')  # change this if you don't have a gpu\n",
    "score_network = score_network.to(device)\n",
    "t0 = time.time()\n",
    "for i_epoch in range(400):\n",
    "    total_loss = 0\n",
    "    for data, _ in dloader:  # we don't need the data class\n",
    "        data = data.reshape(data.shape[0], -1).to(device)\n",
    "        opt.zero_grad()\n",
    "\n",
    "        # training step\n",
    "        loss = calc_loss(score_network, data)\n",
    "        loss.backward()\n",
    "        opt.step()\n",
    "\n",
    "        # running stats\n",
    "        total_loss = total_loss + loss.detach().item() * data.shape[0]\n",
    "\n",
    "    # print the training stats\n",
    "    if i_epoch % 20 == 0:\n",
    "        print(f\"{i_epoch} ({time.time() - t0}s): {total_loss / len(mnist_dset)}\")"
   ]
  },
  {
   "cell_type": "markdown",
   "metadata": {},
   "source": []
  }
 ],
 "metadata": {
  "kernelspec": {
   "display_name": "deeplearning",
   "language": "python",
   "name": "python3"
  },
  "language_info": {
   "codemirror_mode": {
    "name": "ipython",
    "version": 3
   },
   "file_extension": ".py",
   "mimetype": "text/x-python",
   "name": "python",
   "nbconvert_exporter": "python",
   "pygments_lexer": "ipython3",
   "version": "3.12.3"
  }
 },
 "nbformat": 4,
 "nbformat_minor": 2
}
